{
 "cells": [
  {
   "cell_type": "code",
   "execution_count": null,
   "id": "cd520a55",
   "metadata": {},
   "outputs": [],
   "source": [
    "import pandas as pd\n",
    "import requests\n",
    "from bs4 import BeautifulSoup as BS\n",
    "import matplotlib.pyplot as plt"
   ]
  },
  {
   "cell_type": "code",
   "execution_count": null,
   "id": "199a5084",
   "metadata": {},
   "outputs": [],
   "source": [
    "print(pd.__version__)"
   ]
  },
  {
   "cell_type": "code",
   "execution_count": null,
   "id": "0e474d53",
   "metadata": {},
   "outputs": [],
   "source": [
    "URL = 'https://fbref.com/en/comps/22/2023/2023-Major-League-Soccer-Stats'"
   ]
  },
  {
   "cell_type": "code",
   "execution_count": null,
   "id": "956dd130",
   "metadata": {},
   "outputs": [],
   "source": [
    "response = requests.get(URL)\n",
    "response"
   ]
  },
  {
   "cell_type": "code",
   "execution_count": null,
   "id": "412e267a",
   "metadata": {},
   "outputs": [],
   "source": [
    "response.text"
   ]
  },
  {
   "cell_type": "code",
   "execution_count": null,
   "id": "cf20f3cd",
   "metadata": {},
   "outputs": [],
   "source": [
    "soup = BS(response.text)\n",
    "soup"
   ]
  },
  {
   "cell_type": "code",
   "execution_count": null,
   "id": "185e993e",
   "metadata": {},
   "outputs": [],
   "source": [
    "table_html = str(soup.findAll('table'))\n",
    "\n",
    "from IPython.core.display import HTML\n",
    "\n",
    "HTML(table_html)"
   ]
  },
  {
   "cell_type": "code",
   "execution_count": null,
   "id": "5dc98d1a",
   "metadata": {},
   "outputs": [],
   "source": [
    "list_2023 = pd.read_html( str(soup.findAll('table')))\n",
    "list_2023"
   ]
  },
  {
   "cell_type": "code",
   "execution_count": null,
   "id": "a1005e4c",
   "metadata": {},
   "outputs": [],
   "source": [
    "table_ref = {'Eastern Conference Overall': list_2023[0],\n",
    "             'Eastern Conference Home/Aaway' : list_2023[1],\n",
    "             'Western Conference Overall' : list_2023[2],\n",
    "             'Western Conference Home/Away' : list_2023[3],\n",
    "             'Squad Standard Stats Squad Stats' : list_2023[12],\n",
    "             'Squad Standard Stats Opponet Stats' : list_2023[13],\n",
    "             'Squad GoalKeeping Squad Stats' : list_2023[14],\n",
    "             'Squad Goalkeeping Opponent Stats' : list_2023[15],\n",
    "             'Squad Advanced GoalKeeping Squad Stats' : list_2023[16],\n",
    "             'Squad Advanced Goalkeeping Opponent Stats' : list_2023[17],\n",
    "             'Squad Shooting Squad Stats' : list_2023[18],\n",
    "             'Squad Shooting Opponent Stats' : list_2023[19],\n",
    "             'Squad Passing Squad Stats' : list_2023[20],\n",
    "             'Squad Passing Opponent Stats' : list_2023[21],\n",
    "             'Squad Pass Types Squad Stats' : list_2023[22],\n",
    "             'Squad Pass Types Opponent Stats' : list_2023[23],\n",
    "             'Squad Goal and Shot Creation Squad Stats' : list_2023[24],\n",
    "             'Squad Goal and Shot Creation Opponent Stats' : list_2023[25],\n",
    "             'Squad Defensive Actions Squad Stats' : list_2023[26],\n",
    "             'Squad Defensive Actions Opponent Stats' : list_2023[27],\n",
    "             'Squad Possesion Squad Stats' : list_2023[28],\n",
    "             'Squad Possession Opponent Stats' : list_2023[29],\n",
    "             'Squad Playing Time Squad Stats' : list_2023[30],\n",
    "             'Squad Playing Time Opponent Stats' : list_2023[31],\n",
    "             'Squad Miscellaneous Stats Squad Stats' : list_2023[32],\n",
    "             'Squad Miscellanenous Stats Opponent Stats' : list_2023[33],\n",
    "            \n",
    "            }"
   ]
  },
  {
   "cell_type": "code",
   "execution_count": null,
   "id": "b993d09e",
   "metadata": {
    "scrolled": true
   },
   "outputs": [],
   "source": [
    "list_2023[18]"
   ]
  },
  {
   "cell_type": "code",
   "execution_count": null,
   "id": "f2b8d593",
   "metadata": {},
   "outputs": [],
   "source": [
    "squad_shooting_table = table_ref['Squad Shooting Squad Stats']\n",
    "a = squad_shooting_table.columns.get_level_values(1)\n",
    "a\n"
   ]
  },
  {
   "cell_type": "code",
   "execution_count": null,
   "id": "47bcafbc",
   "metadata": {},
   "outputs": [],
   "source": [
    "squad_shooting_table.columns = list(a)\n",
    "squad_shooting_table"
   ]
  },
  {
   "cell_type": "code",
   "execution_count": null,
   "id": "2c51d640",
   "metadata": {},
   "outputs": [],
   "source": [
    "y = squad_shooting_table['SoT']\n",
    "x = squad_shooting_table['Gls']\n"
   ]
  },
  {
   "cell_type": "code",
   "execution_count": null,
   "id": "8f1a4961",
   "metadata": {},
   "outputs": [],
   "source": [
    "plt.scatter(x,y)\n",
    "plt.title('Shots On Target and Goals Scored')\n",
    "plt.ylabel('Shots On Target')\n",
    "plt.xlabel('Goals scored')\n",
    "plt.savefig('scatter_shot_on_target.png')"
   ]
  },
  {
   "cell_type": "code",
   "execution_count": null,
   "id": "17d9e594",
   "metadata": {},
   "outputs": [],
   "source": [
    "squad_shooting_table.info()"
   ]
  },
  {
   "cell_type": "code",
   "execution_count": null,
   "id": "70e5fbe9",
   "metadata": {},
   "outputs": [],
   "source": [
    "squad_shooting_table_drop = squad_shooting_table.drop(columns=('Squad')).reset_index(drop = True)\n",
    "squad_shooting_table_drop"
   ]
  },
  {
   "cell_type": "code",
   "execution_count": null,
   "id": "bb7ea1e4",
   "metadata": {},
   "outputs": [],
   "source": [
    "squad_shooting_table_drop.corr()[['SoT','Gls']]"
   ]
  },
  {
   "cell_type": "code",
   "execution_count": null,
   "id": "d28c2890",
   "metadata": {},
   "outputs": [],
   "source": [
    "squad_shooting_table_drop.corr()[['SoT','Gls']].head(7)"
   ]
  },
  {
   "cell_type": "markdown",
   "id": "4e2606c5",
   "metadata": {},
   "source": [
    "#  Shot Creation and Passing"
   ]
  },
  {
   "cell_type": "code",
   "execution_count": null,
   "id": "ac336a77",
   "metadata": {},
   "outputs": [],
   "source": [
    "\n",
    "squad_shot_creation = table_ref['Squad Goal and Shot Creation Squad Stats']\n",
    "squad_shot_creation\n",
    "\n"
   ]
  },
  {
   "cell_type": "code",
   "execution_count": null,
   "id": "aa6665bc",
   "metadata": {},
   "outputs": [],
   "source": [
    "dethklok = squad_shot_creation.columns.get_level_values(1)\n",
    "list(dethklok)\n",
    "squad_shot_creation.columns=dethklok\n",
    "squad_shot_creation"
   ]
  },
  {
   "cell_type": "code",
   "execution_count": null,
   "id": "4f84c75c",
   "metadata": {},
   "outputs": [],
   "source": [
    "squad_shot_creation_drop = squad_shot_creation.drop(columns = ('Squad'))"
   ]
  },
  {
   "cell_type": "code",
   "execution_count": null,
   "id": "71965ea5",
   "metadata": {},
   "outputs": [],
   "source": [
    "squad_shot_creation_drop"
   ]
  },
  {
   "cell_type": "code",
   "execution_count": null,
   "id": "cebf44b2",
   "metadata": {},
   "outputs": [],
   "source": [
    "squad_shot_creation_drop.corr()"
   ]
  },
  {
   "cell_type": "code",
   "execution_count": null,
   "id": "0d71fa8c",
   "metadata": {},
   "outputs": [],
   "source": [
    "squad_passing = table_ref['Squad Passing Squad Stats']\n",
    "squad_passing_columns = squad_passing.columns.get_level_values(1)\n",
    "list(squad_passing_columns)\n",
    "squad_passing.columns = squad_passing_columns\n",
    "squad_passing"
   ]
  },
  {
   "cell_type": "code",
   "execution_count": null,
   "id": "4c181d34",
   "metadata": {},
   "outputs": [],
   "source": [
    "passing_and_shot_creation = squad_passing.merge(squad_shot_creation, how = 'inner', on = 'Squad')\n",
    "passing_and_shot_creation"
   ]
  },
  {
   "cell_type": "code",
   "execution_count": null,
   "id": "6ce04d46",
   "metadata": {},
   "outputs": [],
   "source": [
    "passing_and_shot_creation_drop = passing_and_shot_creation.drop(columns = ('Squad'))\n",
    "passing_and_shot_creation_drop"
   ]
  },
  {
   "cell_type": "code",
   "execution_count": null,
   "id": "ad41e4d9",
   "metadata": {},
   "outputs": [],
   "source": [
    "passing_and_shot_creation_drop.corr()[['SCA','KP','1/3']]"
   ]
  },
  {
   "cell_type": "code",
   "execution_count": null,
   "id": "57e58115",
   "metadata": {},
   "outputs": [],
   "source": [
    "PPA = passing_and_shot_creation_drop['PPA']\n",
    "SCA = passing_and_shot_creation_drop['SCA']\n",
    "attacking_third = passing_and_shot_creation_drop['1/3']"
   ]
  },
  {
   "cell_type": "code",
   "execution_count": null,
   "id": "26029593",
   "metadata": {},
   "outputs": [],
   "source": [
    "plt.scatter(PPA,SCA)\n",
    "plt.title('Passing in Penalty Area and Shot Creation')\n",
    "plt.xlabel('Passes in Penalty Area')\n",
    "plt.ylabel('Shot Creating Actions')\n",
    "plt.savefig('Passing_in_penalty_area_SCA')"
   ]
  },
  {
   "cell_type": "code",
   "execution_count": null,
   "id": "c95bfd95",
   "metadata": {},
   "outputs": [],
   "source": [
    "SCA2 = passing_and_shot_creation_drop['SCA']\n",
    "PrgP = passing_and_shot_creation_drop['PrgP']"
   ]
  },
  {
   "cell_type": "code",
   "execution_count": null,
   "id": "5157da2b",
   "metadata": {},
   "outputs": [],
   "source": [
    "plt.scatter(PrgP,SCA2)\n",
    "plt.title('Progressive Passing and Shot Creation')\n",
    "plt.xlabel('Progressive Passes')\n",
    "plt.ylabel('Shot Creating Actions')\n",
    "plt.savefig('progressive_Passing_shot_creation.png')"
   ]
  },
  {
   "cell_type": "code",
   "execution_count": null,
   "id": "2af7c20b",
   "metadata": {},
   "outputs": [],
   "source": [
    "plt.scatter(PrgP,attacking_third)"
   ]
  },
  {
   "cell_type": "markdown",
   "id": "47484cd4",
   "metadata": {},
   "source": [
    "# Possession and Passing"
   ]
  },
  {
   "cell_type": "code",
   "execution_count": null,
   "id": "8626b235",
   "metadata": {},
   "outputs": [],
   "source": [
    "possession_table = table_ref['Squad Possesion Squad Stats']\n",
    "possession_table"
   ]
  },
  {
   "cell_type": "code",
   "execution_count": null,
   "id": "1dfc2f5b",
   "metadata": {},
   "outputs": [],
   "source": [
    "possession_columns = possession_table.columns.get_level_values(1)"
   ]
  },
  {
   "cell_type": "code",
   "execution_count": null,
   "id": "1e58ed13",
   "metadata": {},
   "outputs": [],
   "source": [
    "list(possession_columns)"
   ]
  },
  {
   "cell_type": "code",
   "execution_count": null,
   "id": "6fd71a6f",
   "metadata": {},
   "outputs": [],
   "source": [
    "possession_table.columns=possession_columns"
   ]
  },
  {
   "cell_type": "code",
   "execution_count": null,
   "id": "fae7b421",
   "metadata": {},
   "outputs": [],
   "source": [
    "possession_table"
   ]
  },
  {
   "cell_type": "code",
   "execution_count": null,
   "id": "c46ee487",
   "metadata": {},
   "outputs": [],
   "source": [
    "who"
   ]
  },
  {
   "cell_type": "code",
   "execution_count": null,
   "id": "f24ba00d",
   "metadata": {},
   "outputs": [],
   "source": [
    "passing_table = table_ref['Squad Passing Squad Stats']\n",
    "passing_table"
   ]
  },
  {
   "cell_type": "code",
   "execution_count": null,
   "id": "a39ac49a",
   "metadata": {},
   "outputs": [],
   "source": [
    "passing_possesion_tables = passing_table.merge(possession_table, how = 'inner', on = 'Squad')\n",
    "passing_possesion_tables"
   ]
  },
  {
   "cell_type": "code",
   "execution_count": null,
   "id": "279d0b02",
   "metadata": {},
   "outputs": [],
   "source": [
    "passing_possesion_tables_drop = passing_possesion_tables.drop(columns=('Squad'))\n",
    "passing_possesion_tables_drop"
   ]
  },
  {
   "cell_type": "code",
   "execution_count": null,
   "id": "5a04172e",
   "metadata": {},
   "outputs": [],
   "source": [
    "passing_possesion_tables_drop.info()"
   ]
  },
  {
   "cell_type": "code",
   "execution_count": null,
   "id": "8f2161e9",
   "metadata": {},
   "outputs": [],
   "source": [
    "passing_possesion_tables_drop.corr()[['Poss','Touches','Att_x','1/3_y','PrgP']]"
   ]
  },
  {
   "cell_type": "code",
   "execution_count": null,
   "id": "ac2ad512",
   "metadata": {},
   "outputs": [],
   "source": [
    "passing_possesion_tables_drop.rename(columns = {passing_possesion_tables_drop.columns[2] : 'Cmp_alpha'}, inplace = True)\n",
    "passing_possesion_tables_drop"
   ]
  },
  {
   "cell_type": "code",
   "execution_count": null,
   "id": "f605f24d",
   "metadata": {},
   "outputs": [],
   "source": [
    "Cmp_list = ['Cmp_alpha', 'Cmp_beta', 'Cmp_gamma', 'Cmp_delta']\n",
    "passing_possesion_x = passing_possesion_tables_drop['Poss']\n",
    "passing_possesion_x\n",
    "passing_possesion_y = passing_possesion_tables_drop['Cmp_alpha']\n",
    "passing_possesion_y.columns = Cmp_list\n",
    "passing_possesion_y"
   ]
  },
  {
   "cell_type": "code",
   "execution_count": null,
   "id": "cc5d1a09",
   "metadata": {},
   "outputs": [],
   "source": [
    "plt.scatter(passing_possesion_x,passing_possesion_y['Cmp_alpha'])\n",
    "plt.xlabel('Posession as Percent of passess attempted')\n",
    "plt.ylabel('Number of passess completed')\n",
    "plt.title('Posession and Passing')\n",
    "plt.savefig('possession and passing.png')"
   ]
  },
  {
   "cell_type": "code",
   "execution_count": null,
   "id": "b76229e3",
   "metadata": {},
   "outputs": [],
   "source": [
    "plt.scatter(passing_possesion_tables_drop['Touches'],passing_possesion_tables_drop['PrgP'])\n",
    "plt.xlabel('Touches')\n",
    "plt.ylabel('Progressive Passes')\n",
    "plt.title('Touches on the Ball and Progressive Passing')"
   ]
  },
  {
   "cell_type": "code",
   "execution_count": null,
   "id": "5089be87",
   "metadata": {},
   "outputs": [],
   "source": []
  }
 ],
 "metadata": {
  "kernelspec": {
   "display_name": "Python 3 (ipykernel)",
   "language": "python",
   "name": "python3"
  },
  "language_info": {
   "codemirror_mode": {
    "name": "ipython",
    "version": 3
   },
   "file_extension": ".py",
   "mimetype": "text/x-python",
   "name": "python",
   "nbconvert_exporter": "python",
   "pygments_lexer": "ipython3",
   "version": "3.11.5"
  }
 },
 "nbformat": 4,
 "nbformat_minor": 5
}
